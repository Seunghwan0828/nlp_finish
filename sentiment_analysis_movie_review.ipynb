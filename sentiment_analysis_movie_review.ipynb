{
 "cells": [
  {
   "cell_type": "code",
   "execution_count": 1,
   "metadata": {
    "ExecuteTime": {
     "end_time": "2019-11-29T02:47:41.079833Z",
     "start_time": "2019-11-29T02:47:27.214909Z"
    }
   },
   "outputs": [],
   "source": [
    "# importing packages\n",
    "import torch\n",
    "import torch.nn as nn\n",
    "import torch.nn.functional as F \n",
    "import torch.optim as optim\n",
    "from torchtext.data import Field, TabularDataset, Iterator\n",
    "from torchtext import data\n",
    "from torchtext import datasets\n",
    "from eunjeon import Mecab\n",
    "from model_train_test import main"
   ]
  },
  {
   "cell_type": "code",
   "execution_count": 2,
   "metadata": {
    "ExecuteTime": {
     "end_time": "2019-11-29T02:47:41.150671Z",
     "start_time": "2019-11-29T02:47:41.083814Z"
    }
   },
   "outputs": [],
   "source": [
    "from konlpy.tag import Okt"
   ]
  },
  {
   "cell_type": "code",
   "execution_count": 3,
   "metadata": {
    "ExecuteTime": {
     "end_time": "2019-11-29T02:47:41.412931Z",
     "start_time": "2019-11-29T02:47:41.153624Z"
    }
   },
   "outputs": [],
   "source": [
    "# using Mecab as Tokenizer\n",
    "tokenizer = Okt() "
   ]
  },
  {
   "cell_type": "code",
   "execution_count": 4,
   "metadata": {
    "ExecuteTime": {
     "end_time": "2019-11-29T02:47:41.419945Z",
     "start_time": "2019-11-29T02:47:41.414927Z"
    }
   },
   "outputs": [],
   "source": [
    "# defining the Field\n",
    "TEXT = Field(sequential=True,\n",
    "             use_vocab=True,\n",
    "             tokenize=tokenizer.morphs,  \n",
    "             lower=True, \n",
    "             batch_first=True)  \n",
    "LABEL = Field(sequential=False,  \n",
    "              use_vocab=False,   \n",
    "              preprocessing = lambda x: int(x),\n",
    "              batch_first=True, \n",
    "              is_target=True)\n",
    "ID = Field(sequential=False,  \n",
    "           use_vocab=False,   \n",
    "           is_target=False)"
   ]
  },
  {
   "cell_type": "code",
   "execution_count": 5,
   "metadata": {
    "ExecuteTime": {
     "end_time": "2019-11-29T02:54:35.329105Z",
     "start_time": "2019-11-29T02:47:41.421908Z"
    }
   },
   "outputs": [],
   "source": [
    "# divide train_data and test_data by using TabularDataset.splits function\n",
    "train_data, test_data = TabularDataset.splits(\n",
    "    path='./data', format='tsv', \n",
    "    train=\"ratings_train.txt\",\n",
    "    test=\"ratings_test.txt\",\n",
    "    fields=[('id', ID), ('text', TEXT), ('label', LABEL)],\n",
    "    skip_header=True)"
   ]
  },
  {
   "cell_type": "code",
   "execution_count": 6,
   "metadata": {
    "ExecuteTime": {
     "end_time": "2019-11-29T02:54:36.562602Z",
     "start_time": "2019-11-29T02:54:35.331891Z"
    }
   },
   "outputs": [
    {
     "name": "stdout",
     "output_type": "stream",
     "text": [
      "Train Data: 150000 / Test Data: 50000\n",
      "Vocab Size: 47493\n"
     ]
    }
   ],
   "source": [
    "# making Vocabulary\n",
    "TEXT.build_vocab(train_data, min_freq=2)\n",
    "# checking the number of train data and test data / Vocabulary size\n",
    "print(\"Train Data: {} / Test Data: {}\".format(len(train_data), len(test_data)))\n",
    "print(\"Vocab Size: {}\".format(len(TEXT.vocab)))"
   ]
  },
  {
   "cell_type": "code",
   "execution_count": 7,
   "metadata": {
    "ExecuteTime": {
     "end_time": "2019-11-29T02:54:37.066229Z",
     "start_time": "2019-11-29T02:54:36.565559Z"
    }
   },
   "outputs": [],
   "source": [
    "# setting environment variables\n",
    "BATCH = 64  # mini-batch\n",
    "DEVICE = 'cuda' if torch.cuda.is_available() else 'cpu'  # device\n",
    "STEP = 10  # total repeat step"
   ]
  },
  {
   "cell_type": "code",
   "execution_count": 8,
   "metadata": {
    "ExecuteTime": {
     "end_time": "2019-11-29T02:54:37.078188Z",
     "start_time": "2019-11-29T02:54:37.071209Z"
    }
   },
   "outputs": [],
   "source": [
    "# defing data loader\n",
    "train_loader = Iterator(dataset=train_data, batch_size=BATCH, device=DEVICE)\n",
    "test_loader = Iterator(dataset=test_data, batch_size=BATCH, device=DEVICE)"
   ]
  },
  {
   "cell_type": "code",
   "execution_count": 9,
   "metadata": {
    "ExecuteTime": {
     "end_time": "2019-11-29T02:54:37.095147Z",
     "start_time": "2019-11-29T02:54:37.081182Z"
    }
   },
   "outputs": [],
   "source": [
    "# makeing model by using LSTM\n",
    "class SentimentCls(nn.Module):\n",
    "    def __init__(self, vocab_size, embed_size, hidden_size, output_size,\n",
    "                 num_layers=3, batch_first=True, bidirec=True, dropout=0.5):\n",
    "        super(SentimentCls, self).__init__()\n",
    "        self.hidden_size = hidden_size\n",
    "        self.n_layers = num_layers\n",
    "        self.n_direct = 2 if bidirec else 1\n",
    "        self.embedding_layer = nn.Embedding(vocab_size, embed_size)\n",
    "        self.rnn_layer = nn.LSTM(input_size=embed_size,\n",
    "                                 hidden_size=hidden_size,\n",
    "                                 num_layers=num_layers,\n",
    "                                 batch_first=batch_first,\n",
    "                                 bidirectional=bidirec,\n",
    "                                 dropout=0.5)\n",
    "        self.dropout = nn.Dropout(dropout)\n",
    "        self.linear = nn.Linear(self.n_direct*hidden_size, output_size)\n",
    "        \n",
    "\n",
    "    def forward(self, x):\n",
    "        embeded = self.dropout(self.embedding_layer(x))\n",
    "        hidden, cell = self.init_hiddens(x.size(0), self.hidden_size, device=x.device)\n",
    "        output, (hidden, cell) = self.rnn_layer(embeded, (hidden, cell))\n",
    "        last_hidden = torch.cat([h for h in hidden[-self.n_direct:]], dim=1)\n",
    "        scores = self.linear(last_hidden)\n",
    "        return scores.view(-1)\n",
    "    \n",
    "    def init_hiddens(self, batch_size, hidden_size, device):\n",
    "        hidden = torch.zeros(self.n_direct*self.n_layers, batch_size, hidden_size)\n",
    "        cell = torch.zeros(self.n_direct*self.n_layers, batch_size, hidden_size)\n",
    "        return hidden.to(device), cell.to(device)"
   ]
  },
  {
   "cell_type": "code",
   "execution_count": 10,
   "metadata": {
    "ExecuteTime": {
     "end_time": "2019-11-29T02:54:40.871045Z",
     "start_time": "2019-11-29T02:54:37.098135Z"
    }
   },
   "outputs": [
    {
     "name": "stdout",
     "output_type": "stream",
     "text": [
      "Total number of parameters: 10024065\n"
     ]
    }
   ],
   "source": [
    "# setting arguments for model\n",
    "vocab_size = len(TEXT.vocab)  # the size of vocabulary\n",
    "embed_size = 128  # the size of embedding\n",
    "hidden_size = 256  # the size of hidden layer\n",
    "output_size = 1  # the size of output layer\n",
    "num_layers = 3  # the number of RNN layer\n",
    "batch_first = True  # if RNN's frist dim of input is the size of minibatch\n",
    "bidirec = True  # BERT\n",
    "dropdout = 0.5\n",
    "# model\n",
    "model = SentimentCls(vocab_size, embed_size, hidden_size, output_size,\n",
    "                     num_layers, batch_first, bidirec, dropdout).to(DEVICE)\n",
    "# checking total number of parameters\n",
    "num_params = 0\n",
    "for params in model.parameters():\n",
    "    num_params += params.view(-1).size(0)\n",
    "print(\"Total number of parameters: {}\".format(num_params))\n",
    "\n",
    "# loss funtion and optimizer\n",
    "loss_function = nn.BCEWithLogitsLoss()\n",
    "optimizer = optim.Adam(model.parameters(), weight_decay=5e-5)"
   ]
  },
  {
   "cell_type": "code",
   "execution_count": 11,
   "metadata": {
    "ExecuteTime": {
     "end_time": "2019-11-29T03:53:28.619666Z",
     "start_time": "2019-11-29T02:54:40.872041Z"
    },
    "scrolled": false
   },
   "outputs": [
    {
     "name": "stdout",
     "output_type": "stream",
     "text": [
      "Train Step: 1 (00.00%)  \tLoss: 0.6896\n",
      "Train Step: 1 (10.92%)  \tLoss: 0.6487\n",
      "Train Step: 1 (21.85%)  \tLoss: 0.5478\n",
      "Train Step: 1 (32.77%)  \tLoss: 0.5578\n",
      "Train Step: 1 (43.69%)  \tLoss: 0.5641\n",
      "Train Step: 1 (54.61%)  \tLoss: 0.3667\n",
      "Train Step: 1 (65.54%)  \tLoss: 0.3815\n",
      "Train Step: 1 (76.46%)  \tLoss: 0.4570\n",
      "Train Step: 1 (87.38%)  \tLoss: 0.3242\n",
      "Train Step: 1 (98.30%)  \tLoss: 0.3207\n",
      "Test set: Average loss: 0.3915, Accuracy: 41074/50000 (82.15%)\n",
      "\n",
      "Train Step: 2 (00.00%)  \tLoss: 0.3760\n",
      "Train Step: 2 (10.92%)  \tLoss: 0.2927\n",
      "Train Step: 2 (21.85%)  \tLoss: 0.3731\n",
      "Train Step: 2 (32.77%)  \tLoss: 0.5457\n",
      "Train Step: 2 (43.69%)  \tLoss: 0.3988\n",
      "Train Step: 2 (54.61%)  \tLoss: 0.3633\n",
      "Train Step: 2 (65.54%)  \tLoss: 0.2545\n",
      "Train Step: 2 (76.46%)  \tLoss: 0.4523\n",
      "Train Step: 2 (87.38%)  \tLoss: 0.3722\n",
      "Train Step: 2 (98.30%)  \tLoss: 0.3128\n",
      "Test set: Average loss: 0.3490, Accuracy: 42478/50000 (84.96%)\n",
      "discard previous state, best model state saved!\n",
      "\n",
      "Train Step: 3 (00.00%)  \tLoss: 0.3427\n",
      "Train Step: 3 (10.92%)  \tLoss: 0.3768\n",
      "Train Step: 3 (21.85%)  \tLoss: 0.3876\n",
      "Train Step: 3 (32.77%)  \tLoss: 0.2589\n",
      "Train Step: 3 (43.69%)  \tLoss: 0.2736\n",
      "Train Step: 3 (54.61%)  \tLoss: 0.3643\n",
      "Train Step: 3 (65.54%)  \tLoss: 0.2740\n",
      "Train Step: 3 (76.46%)  \tLoss: 0.3123\n",
      "Train Step: 3 (87.38%)  \tLoss: 0.3488\n",
      "Train Step: 3 (98.30%)  \tLoss: 0.2287\n",
      "Test set: Average loss: 0.3252, Accuracy: 42849/50000 (85.70%)\n",
      "discard previous state, best model state saved!\n",
      "\n",
      "Train Step: 4 (00.00%)  \tLoss: 0.3506\n",
      "Train Step: 4 (10.92%)  \tLoss: 0.3001\n",
      "Train Step: 4 (21.85%)  \tLoss: 0.2713\n",
      "Train Step: 4 (32.77%)  \tLoss: 0.1728\n",
      "Train Step: 4 (43.69%)  \tLoss: 0.2974\n",
      "Train Step: 4 (54.61%)  \tLoss: 0.3450\n",
      "Train Step: 4 (65.54%)  \tLoss: 0.2832\n",
      "Train Step: 4 (76.46%)  \tLoss: 0.2678\n",
      "Train Step: 4 (87.38%)  \tLoss: 0.2744\n",
      "Train Step: 4 (98.30%)  \tLoss: 0.2991\n",
      "Test set: Average loss: 0.3249, Accuracy: 42836/50000 (85.67%)\n",
      "\n",
      "Train Step: 5 (00.00%)  \tLoss: 0.2319\n",
      "Train Step: 5 (10.92%)  \tLoss: 0.2775\n",
      "Train Step: 5 (21.85%)  \tLoss: 0.2004\n",
      "Train Step: 5 (32.77%)  \tLoss: 0.3742\n",
      "Train Step: 5 (43.69%)  \tLoss: 0.2077\n",
      "Train Step: 5 (54.61%)  \tLoss: 0.2828\n",
      "Train Step: 5 (65.54%)  \tLoss: 0.2792\n",
      "Train Step: 5 (76.46%)  \tLoss: 0.4179\n",
      "Train Step: 5 (87.38%)  \tLoss: 0.2090\n",
      "Train Step: 5 (98.30%)  \tLoss: 0.2584\n",
      "Test set: Average loss: 0.3161, Accuracy: 43140/50000 (86.28%)\n",
      "discard previous state, best model state saved!\n",
      "\n",
      "Train Step: 6 (00.00%)  \tLoss: 0.2051\n",
      "Train Step: 6 (10.92%)  \tLoss: 0.1002\n",
      "Train Step: 6 (21.85%)  \tLoss: 0.1052\n",
      "Train Step: 6 (32.77%)  \tLoss: 0.4177\n",
      "Train Step: 6 (43.69%)  \tLoss: 0.2043\n",
      "Train Step: 6 (54.61%)  \tLoss: 0.1793\n",
      "Train Step: 6 (65.54%)  \tLoss: 0.2820\n",
      "Train Step: 6 (76.46%)  \tLoss: 0.2501\n",
      "Train Step: 6 (87.38%)  \tLoss: 0.2419\n",
      "Train Step: 6 (98.30%)  \tLoss: 0.3371\n",
      "Test set: Average loss: 0.3179, Accuracy: 43056/50000 (86.11%)\n",
      "\n",
      "Train Step: 7 (00.00%)  \tLoss: 0.2377\n",
      "Train Step: 7 (10.92%)  \tLoss: 0.3585\n",
      "Train Step: 7 (21.85%)  \tLoss: 0.2099\n",
      "Train Step: 7 (32.77%)  \tLoss: 0.2411\n",
      "Train Step: 7 (43.69%)  \tLoss: 0.3090\n",
      "Train Step: 7 (54.61%)  \tLoss: 0.1819\n",
      "Train Step: 7 (65.54%)  \tLoss: 0.2508\n",
      "Train Step: 7 (76.46%)  \tLoss: 0.3429\n",
      "Train Step: 7 (87.38%)  \tLoss: 0.3252\n",
      "Train Step: 7 (98.30%)  \tLoss: 0.3031\n",
      "Test set: Average loss: 0.3162, Accuracy: 43133/50000 (86.27%)\n",
      "\n",
      "Train Step: 8 (00.00%)  \tLoss: 0.1462\n",
      "Train Step: 8 (10.92%)  \tLoss: 0.2109\n",
      "Train Step: 8 (21.85%)  \tLoss: 0.1779\n",
      "Train Step: 8 (32.77%)  \tLoss: 0.2530\n",
      "Train Step: 8 (43.69%)  \tLoss: 0.3091\n",
      "Train Step: 8 (54.61%)  \tLoss: 0.3385\n",
      "Train Step: 8 (65.54%)  \tLoss: 0.2633\n",
      "Train Step: 8 (76.46%)  \tLoss: 0.1657\n",
      "Train Step: 8 (87.38%)  \tLoss: 0.2898\n",
      "Train Step: 8 (98.30%)  \tLoss: 0.2559\n",
      "Test set: Average loss: 0.3190, Accuracy: 43157/50000 (86.31%)\n",
      "discard previous state, best model state saved!\n",
      "\n",
      "Train Step: 9 (00.00%)  \tLoss: 0.3903\n",
      "Train Step: 9 (10.92%)  \tLoss: 0.1229\n",
      "Train Step: 9 (21.85%)  \tLoss: 0.3065\n",
      "Train Step: 9 (32.77%)  \tLoss: 0.2850\n",
      "Train Step: 9 (43.69%)  \tLoss: 0.1621\n",
      "Train Step: 9 (54.61%)  \tLoss: 0.0966\n",
      "Train Step: 9 (65.54%)  \tLoss: 0.2009\n",
      "Train Step: 9 (76.46%)  \tLoss: 0.3625\n",
      "Train Step: 9 (87.38%)  \tLoss: 0.2891\n",
      "Train Step: 9 (98.30%)  \tLoss: 0.2849\n",
      "Test set: Average loss: 0.3269, Accuracy: 43098/50000 (86.20%)\n",
      "\n",
      "Train Step: 10 (00.00%)  \tLoss: 0.1079\n",
      "Train Step: 10 (10.92%)  \tLoss: 0.1287\n",
      "Train Step: 10 (21.85%)  \tLoss: 0.1145\n",
      "Train Step: 10 (32.77%)  \tLoss: 0.0922\n",
      "Train Step: 10 (43.69%)  \tLoss: 0.2486\n",
      "Train Step: 10 (54.61%)  \tLoss: 0.1657\n",
      "Train Step: 10 (65.54%)  \tLoss: 0.2301\n",
      "Train Step: 10 (76.46%)  \tLoss: 0.1280\n",
      "Train Step: 10 (87.38%)  \tLoss: 0.3568\n",
      "Train Step: 10 (98.30%)  \tLoss: 0.2017\n",
      "Test set: Average loss: 0.3342, Accuracy: 43045/50000 (86.09%)\n",
      "\n"
     ]
    }
   ],
   "source": [
    "# train\n",
    "main(model=model,\n",
    "     train_loader=train_loader,\n",
    "     test_loader=test_loader,\n",
    "     loss_func=loss_function, \n",
    "     optimizer=optimizer, \n",
    "     n_step=STEP,\n",
    "     save_path=\"./movie-review-model.pt\",\n",
    "     print_step=256)"
   ]
  },
  {
   "cell_type": "code",
   "execution_count": null,
   "metadata": {},
   "outputs": [],
   "source": []
  }
 ],
 "metadata": {
  "hide_input": false,
  "kernelspec": {
   "display_name": "Python 3",
   "language": "python",
   "name": "python3"
  },
  "language_info": {
   "codemirror_mode": {
    "name": "ipython",
    "version": 3
   },
   "file_extension": ".py",
   "mimetype": "text/x-python",
   "name": "python",
   "nbconvert_exporter": "python",
   "pygments_lexer": "ipython3",
   "version": "3.6.9"
  },
  "toc": {
   "base_numbering": 1,
   "nav_menu": {},
   "number_sections": true,
   "sideBar": true,
   "skip_h1_title": false,
   "title_cell": "Table of Contents",
   "title_sidebar": "Contents",
   "toc_cell": false,
   "toc_position": {},
   "toc_section_display": true,
   "toc_window_display": false
  },
  "varInspector": {
   "cols": {
    "lenName": 16,
    "lenType": 16,
    "lenVar": 40
   },
   "kernels_config": {
    "python": {
     "delete_cmd_postfix": "",
     "delete_cmd_prefix": "del ",
     "library": "var_list.py",
     "varRefreshCmd": "print(var_dic_list())"
    },
    "r": {
     "delete_cmd_postfix": ") ",
     "delete_cmd_prefix": "rm(",
     "library": "var_list.r",
     "varRefreshCmd": "cat(var_dic_list()) "
    }
   },
   "types_to_exclude": [
    "module",
    "function",
    "builtin_function_or_method",
    "instance",
    "_Feature"
   ],
   "window_display": false
  }
 },
 "nbformat": 4,
 "nbformat_minor": 2
}
