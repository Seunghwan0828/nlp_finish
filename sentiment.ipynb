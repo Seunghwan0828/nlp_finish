{
 "cells": [
  {
   "cell_type": "code",
   "execution_count": 1,
   "metadata": {},
   "outputs": [],
   "source": [
    "import torch\n",
    "import torch.nn as nn\n",
    "from torchtext.data import Field, TabularDataset, Iterator\n",
    "from eunjeon import Mecab\n",
    "tokenizer = Mecab()"
   ]
  },
  {
   "cell_type": "code",
   "execution_count": 2,
   "metadata": {},
   "outputs": [],
   "source": [
    "TEXT = Field(sequential=True,\n",
    "             use_vocab=True,\n",
    "             tokenize=tokenizer.morphs,  \n",
    "             lower=True, \n",
    "             batch_first=True)  \n",
    "LABEL = Field(sequential=False,  \n",
    "              use_vocab=False,   \n",
    "              preprocessing = lambda x: int(x),\n",
    "              batch_first=True, \n",
    "              is_target=True)\n",
    "ID = Field(sequential=False,  \n",
    "           use_vocab=False,   \n",
    "           is_target=False)"
   ]
  },
  {
   "cell_type": "code",
   "execution_count": 3,
   "metadata": {},
   "outputs": [],
   "source": [
    "train_data, test_data = TabularDataset.splits(\n",
    "    path='./data', format='tsv', \n",
    "    train=\"ratings_train.txt\",\n",
    "    test=\"ratings_test.txt\",\n",
    "    fields=[('id', ID), ('text', TEXT), ('label', LABEL)],\n",
    "    skip_header=True)"
   ]
  },
  {
   "cell_type": "code",
   "execution_count": 4,
   "metadata": {},
   "outputs": [],
   "source": [
    "TEXT.build_vocab(train_data, min_freq=2)"
   ]
  },
  {
   "cell_type": "code",
   "execution_count": 5,
   "metadata": {},
   "outputs": [],
   "source": [
    "class SentimentCls(nn.Module):\n",
    "    def __init__(self, vocab_size, embed_size, hidden_size, output_size,\n",
    "                 num_layers=3, batch_first=True, bidirec=True, dropout=0.5):\n",
    "        super(SentimentCls, self).__init__()\n",
    "        self.hidden_size = hidden_size\n",
    "        self.n_layers = num_layers\n",
    "        self.n_direct = 2 if bidirec else 1\n",
    "        self.embedding_layer = nn.Embedding(vocab_size, embed_size)\n",
    "        self.rnn_layer = nn.LSTM(input_size=embed_size,\n",
    "                                 hidden_size=hidden_size,\n",
    "                                 num_layers=num_layers,\n",
    "                                 batch_first=batch_first,\n",
    "                                 bidirectional=bidirec,\n",
    "                                 dropout=0.5)\n",
    "        self.dropout = nn.Dropout(dropout)\n",
    "        self.linear = nn.Linear(self.n_direct*hidden_size, output_size)\n",
    "        \n",
    "\n",
    "    def forward(self, x):\n",
    "        embeded = self.dropout(self.embedding_layer(x))\n",
    "        hidden, cell = self.init_hiddens(x.size(0), self.hidden_size, device=x.device)\n",
    "        output, (hidden, cell) = self.rnn_layer(embeded, (hidden, cell))\n",
    "        last_hidden = torch.cat([h for h in hidden[-self.n_direct:]], dim=1)\n",
    "        scores = self.linear(last_hidden)\n",
    "        return scores.view(-1)\n",
    "    \n",
    "    def init_hiddens(self, batch_size, hidden_size, device):\n",
    "        hidden = torch.zeros(self.n_direct*self.n_layers, batch_size, hidden_size)\n",
    "        cell = torch.zeros(self.n_direct*self.n_layers, batch_size, hidden_size)\n",
    "        return hidden.to(device), cell.to(device)"
   ]
  },
  {
   "cell_type": "code",
   "execution_count": 6,
   "metadata": {},
   "outputs": [],
   "source": [
    "vocab_size = len(TEXT.vocab)  # the size of vocabulary\n",
    "embed_size = 128  # the size of embedding\n",
    "hidden_size = 256  # the size of hidden layer\n",
    "output_size = 1  # the size of output layer\n",
    "num_layers = 3  # the number of RNN layer\n",
    "batch_first = True  # if RNN's frist dim of input is the size of minibatch\n",
    "bidirec = True  # BERT\n",
    "dropdout = 0.5\n",
    "DEVICE = 'cuda' if torch.cuda.is_available() else 'cpu'  # device"
   ]
  },
  {
   "cell_type": "code",
   "execution_count": 7,
   "metadata": {},
   "outputs": [],
   "source": [
    "model = SentimentCls(vocab_size, embed_size, hidden_size, output_size,\n",
    "                     num_layers, batch_first, bidirec, dropdout).to(DEVICE)"
   ]
  },
  {
   "cell_type": "code",
   "execution_count": 8,
   "metadata": {},
   "outputs": [
    {
     "name": "stdout",
     "output_type": "stream",
     "text": [
      "Load Complete!\n"
     ]
    }
   ],
   "source": [
    "model.load_state_dict(torch.load(\"./movie-review-model.pt\",map_location=torch.device('cpu')))\n",
    "print(\"Load Complete!\")"
   ]
  },
  {
   "cell_type": "code",
   "execution_count": 9,
   "metadata": {},
   "outputs": [],
   "source": [
    "def test_analysis(model, field, tokenizer, device):\n",
    "    sentence = input(\"Enter your sentence for test: \")\n",
    "    x = field.process([tokenizer.morphs(sentence)]).to(device)\n",
    "    output = model(x)\n",
    "    pred = torch.sigmoid(output).item()\n",
    "    print(\"--- Result ---\")\n",
    "    if pred > 0.8:\n",
    "        print(\"매우좋음\")\n",
    "    elif pred > 0.6:\n",
    "        print(\"좋음\")\n",
    "    elif pred > 0.4:\n",
    "        print(\"보통\")\n",
    "    elif pred > 0.2:\n",
    "        print(\"나쁨\")\n",
    "    elif pred > 0:\n",
    "        print(\"매우나쁨\")"
   ]
  }
 ],
 "metadata": {
  "kernelspec": {
   "display_name": "Python 3",
   "language": "python",
   "name": "python3"
  },
  "language_info": {
   "codemirror_mode": {
    "name": "ipython",
    "version": 3
   },
   "file_extension": ".py",
   "mimetype": "text/x-python",
   "name": "python",
   "nbconvert_exporter": "python",
   "pygments_lexer": "ipython3",
   "version": "3.6.9"
  }
 },
 "nbformat": 4,
 "nbformat_minor": 2
}
